{
 "cells": [
  {
   "cell_type": "code",
   "execution_count": 3,
   "metadata": {},
   "outputs": [
    {
     "name": "stdout",
     "output_type": "stream",
     "text": [
      "Defaulting to user installation because normal site-packages is not writeable\n",
      "Requirement already satisfied: mistralai in c:\\users\\paull\\appdata\\roaming\\python\\python312\\site-packages (1.2.3)\n",
      "Requirement already satisfied: eval-type-backport<0.3.0,>=0.2.0 in c:\\users\\paull\\appdata\\roaming\\python\\python312\\site-packages (from mistralai) (0.2.0)\n",
      "Requirement already satisfied: httpx<0.28.0,>=0.27.0 in c:\\users\\paull\\appdata\\roaming\\python\\python312\\site-packages (from mistralai) (0.27.2)\n",
      "Requirement already satisfied: jsonpath-python<2.0.0,>=1.0.6 in c:\\users\\paull\\appdata\\roaming\\python\\python312\\site-packages (from mistralai) (1.0.6)\n",
      "Requirement already satisfied: pydantic<3.0.0,>=2.9.0 in c:\\users\\paull\\appdata\\roaming\\python\\python312\\site-packages (from mistralai) (2.10.1)\n",
      "Requirement already satisfied: python-dateutil==2.8.2 in c:\\users\\paull\\appdata\\roaming\\python\\python312\\site-packages (from mistralai) (2.8.2)\n",
      "Requirement already satisfied: typing-inspect<0.10.0,>=0.9.0 in c:\\users\\paull\\appdata\\roaming\\python\\python312\\site-packages (from mistralai) (0.9.0)\n",
      "Requirement already satisfied: six>=1.5 in c:\\users\\paull\\appdata\\roaming\\python\\python312\\site-packages (from python-dateutil==2.8.2->mistralai) (1.16.0)\n",
      "Requirement already satisfied: anyio in c:\\users\\paull\\appdata\\roaming\\python\\python312\\site-packages (from httpx<0.28.0,>=0.27.0->mistralai) (4.6.2.post1)\n",
      "Requirement already satisfied: certifi in c:\\users\\paull\\appdata\\roaming\\python\\python312\\site-packages (from httpx<0.28.0,>=0.27.0->mistralai) (2024.8.30)\n",
      "Requirement already satisfied: httpcore==1.* in c:\\users\\paull\\appdata\\roaming\\python\\python312\\site-packages (from httpx<0.28.0,>=0.27.0->mistralai) (1.0.7)\n",
      "Requirement already satisfied: idna in c:\\users\\paull\\appdata\\roaming\\python\\python312\\site-packages (from httpx<0.28.0,>=0.27.0->mistralai) (3.10)\n",
      "Requirement already satisfied: sniffio in c:\\users\\paull\\appdata\\roaming\\python\\python312\\site-packages (from httpx<0.28.0,>=0.27.0->mistralai) (1.3.1)\n",
      "Requirement already satisfied: h11<0.15,>=0.13 in c:\\users\\paull\\appdata\\roaming\\python\\python312\\site-packages (from httpcore==1.*->httpx<0.28.0,>=0.27.0->mistralai) (0.14.0)\n",
      "Requirement already satisfied: annotated-types>=0.6.0 in c:\\users\\paull\\appdata\\roaming\\python\\python312\\site-packages (from pydantic<3.0.0,>=2.9.0->mistralai) (0.7.0)\n",
      "Requirement already satisfied: pydantic-core==2.27.1 in c:\\users\\paull\\appdata\\roaming\\python\\python312\\site-packages (from pydantic<3.0.0,>=2.9.0->mistralai) (2.27.1)\n",
      "Requirement already satisfied: typing-extensions>=4.12.2 in c:\\users\\paull\\appdata\\roaming\\python\\python312\\site-packages (from pydantic<3.0.0,>=2.9.0->mistralai) (4.12.2)\n",
      "Requirement already satisfied: mypy-extensions>=0.3.0 in c:\\users\\paull\\appdata\\roaming\\python\\python312\\site-packages (from typing-inspect<0.10.0,>=0.9.0->mistralai) (1.0.0)\n"
     ]
    },
    {
     "name": "stderr",
     "output_type": "stream",
     "text": [
      "\n",
      "[notice] A new release of pip is available: 24.2 -> 24.3.1\n",
      "[notice] To update, run: python.exe -m pip install --upgrade pip\n"
     ]
    },
    {
     "name": "stdout",
     "output_type": "stream",
     "text": [
      "Defaulting to user installation because normal site-packages is not writeable\n",
      "Collecting python-dotenv\n",
      "  Downloading python_dotenv-1.0.1-py3-none-any.whl.metadata (23 kB)\n",
      "Downloading python_dotenv-1.0.1-py3-none-any.whl (19 kB)\n",
      "Installing collected packages: python-dotenv\n",
      "Successfully installed python-dotenv-1.0.1\n"
     ]
    },
    {
     "name": "stderr",
     "output_type": "stream",
     "text": [
      "\n",
      "[notice] A new release of pip is available: 24.2 -> 24.3.1\n",
      "[notice] To update, run: python.exe -m pip install --upgrade pip\n"
     ]
    }
   ],
   "source": [
    "!pip install mistralai\n",
    "!pip install python-dotenv"
   ]
  },
  {
   "cell_type": "code",
   "execution_count": 4,
   "metadata": {},
   "outputs": [
    {
     "data": {
      "text/plain": [
       "True"
      ]
     },
     "execution_count": 4,
     "metadata": {},
     "output_type": "execute_result"
    }
   ],
   "source": [
    "from mistralai import Mistral\n",
    "from dotenv import load_dotenv\n",
    "import os\n",
    "load_dotenv()"
   ]
  },
  {
   "cell_type": "code",
   "execution_count": 5,
   "metadata": {},
   "outputs": [],
   "source": [
    "api_key = os.environ[\"MISTRAL_API_KEY\"]\n",
    "model = \"mistral-small-latest\""
   ]
  },
  {
   "cell_type": "code",
   "execution_count": 6,
   "metadata": {},
   "outputs": [
    {
     "name": "stdout",
     "output_type": "stream",
     "text": [
      "Choosing the \"best\" French cheese is subjective and depends on personal taste, as France has a wide variety of cheeses with different flavors, textures, and aromas. However, some French cheeses are particularly renowned worldwide. Here are a few highly regarded ones:\n",
      "\n",
      "1. **Brie de Meaux**: A creamy, soft cheese with a bloomy rind, it's often considered one of the best French cheeses.\n",
      "\n",
      "2. **Roquefort**: This blue cheese, made from sheep's milk, has a distinctive, tangy flavor and is often considered the king of blue cheeses.\n",
      "\n",
      "3. **Camembert de Normandie**: Another soft, creamy cheese with a bloomy rind, it's known for its rich, buttery flavor.\n",
      "\n",
      "4. **Comté**: A firm, slightly nutty cheese made from cow's milk, it's one of the most popular cheeses in France.\n",
      "\n",
      "5. **Reblochon**: A semi-soft cheese with a nutty, earthy flavor, it's often used in traditional French dishes like tartiflette.\n",
      "\n",
      "6. **Bleu d'Auvergne**: A blue cheese with a strong, spicy flavor, it's known for its distinctive veins of blue mold.\n",
      "\n",
      "7. **Chèvre (Goat Cheese)**: There are many varieties of goat cheese in France, ranging from fresh and mild to aged and pungent. Some popular ones include Crottin de Chavignol and Valençay.\n",
      "\n",
      "Each of these cheeses has its own unique characteristics, so the \"best\" one depends on your personal preferences. It's always fun to try different varieties to find your favorite!\n"
     ]
    }
   ],
   "source": [
    "client = Mistral(api_key=api_key)\n",
    "\n",
    "chat_response = client.chat.complete(\n",
    "    model=model,\n",
    "    messages=[{\"role\":\"user\", \"content\":\"What is the best French cheese?\"}]\n",
    ")\n",
    "\n",
    "print(chat_response.choices[0].message.content)"
   ]
  }
 ],
 "metadata": {
  "kernelspec": {
   "display_name": "Python 3",
   "language": "python",
   "name": "python3"
  },
  "language_info": {
   "codemirror_mode": {
    "name": "ipython",
    "version": 3
   },
   "file_extension": ".py",
   "mimetype": "text/x-python",
   "name": "python",
   "nbconvert_exporter": "python",
   "pygments_lexer": "ipython3",
   "version": "3.12.6"
  }
 },
 "nbformat": 4,
 "nbformat_minor": 2
}
