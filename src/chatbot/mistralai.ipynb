{
 "cells": [
  {
   "cell_type": "code",
   "execution_count": null,
   "metadata": {},
   "outputs": [
    {
     "name": "stdout",
     "output_type": "stream",
     "text": [
      "Defaulting to user installation because normal site-packages is not writeable\n",
      "Collecting mistralai\n",
      "  Downloading mistralai-1.2.3-py3-none-any.whl.metadata (26 kB)\n",
      "Collecting eval-type-backport<0.3.0,>=0.2.0 (from mistralai)\n",
      "  Downloading eval_type_backport-0.2.0-py3-none-any.whl.metadata (2.2 kB)\n",
      "Collecting httpx<0.28.0,>=0.27.0 (from mistralai)\n",
      "  Downloading httpx-0.27.2-py3-none-any.whl.metadata (7.1 kB)\n",
      "Collecting jsonpath-python<2.0.0,>=1.0.6 (from mistralai)\n",
      "  Downloading jsonpath_python-1.0.6-py3-none-any.whl.metadata (12 kB)\n",
      "Collecting pydantic<3.0.0,>=2.9.0 (from mistralai)\n",
      "  Downloading pydantic-2.10.1-py3-none-any.whl.metadata (169 kB)\n",
      "Collecting python-dateutil==2.8.2 (from mistralai)\n",
      "  Downloading python_dateutil-2.8.2-py2.py3-none-any.whl.metadata (8.2 kB)\n",
      "Collecting typing-inspect<0.10.0,>=0.9.0 (from mistralai)\n",
      "  Downloading typing_inspect-0.9.0-py3-none-any.whl.metadata (1.5 kB)\n",
      "Requirement already satisfied: six>=1.5 in c:\\users\\paull\\appdata\\roaming\\python\\python312\\site-packages (from python-dateutil==2.8.2->mistralai) (1.16.0)\n",
      "Collecting anyio (from httpx<0.28.0,>=0.27.0->mistralai)\n",
      "  Downloading anyio-4.6.2.post1-py3-none-any.whl.metadata (4.7 kB)\n",
      "Requirement already satisfied: certifi in c:\\users\\paull\\appdata\\roaming\\python\\python312\\site-packages (from httpx<0.28.0,>=0.27.0->mistralai) (2024.8.30)\n",
      "Collecting httpcore==1.* (from httpx<0.28.0,>=0.27.0->mistralai)\n",
      "  Downloading httpcore-1.0.7-py3-none-any.whl.metadata (21 kB)\n",
      "Requirement already satisfied: idna in c:\\users\\paull\\appdata\\roaming\\python\\python312\\site-packages (from httpx<0.28.0,>=0.27.0->mistralai) (3.10)\n",
      "Collecting sniffio (from httpx<0.28.0,>=0.27.0->mistralai)\n",
      "  Downloading sniffio-1.3.1-py3-none-any.whl.metadata (3.9 kB)\n",
      "Collecting h11<0.15,>=0.13 (from httpcore==1.*->httpx<0.28.0,>=0.27.0->mistralai)\n",
      "  Downloading h11-0.14.0-py3-none-any.whl.metadata (8.2 kB)\n",
      "Collecting annotated-types>=0.6.0 (from pydantic<3.0.0,>=2.9.0->mistralai)\n",
      "  Downloading annotated_types-0.7.0-py3-none-any.whl.metadata (15 kB)\n",
      "Collecting pydantic-core==2.27.1 (from pydantic<3.0.0,>=2.9.0->mistralai)\n",
      "  Downloading pydantic_core-2.27.1-cp312-none-win_amd64.whl.metadata (6.7 kB)\n",
      "Requirement already satisfied: typing-extensions>=4.12.2 in c:\\users\\paull\\appdata\\roaming\\python\\python312\\site-packages (from pydantic<3.0.0,>=2.9.0->mistralai) (4.12.2)\n",
      "Collecting mypy-extensions>=0.3.0 (from typing-inspect<0.10.0,>=0.9.0->mistralai)\n",
      "  Downloading mypy_extensions-1.0.0-py3-none-any.whl.metadata (1.1 kB)\n",
      "Downloading mistralai-1.2.3-py3-none-any.whl (256 kB)\n",
      "Downloading python_dateutil-2.8.2-py2.py3-none-any.whl (247 kB)\n",
      "Downloading eval_type_backport-0.2.0-py3-none-any.whl (5.9 kB)\n",
      "Downloading httpx-0.27.2-py3-none-any.whl (76 kB)\n",
      "Downloading httpcore-1.0.7-py3-none-any.whl (78 kB)\n",
      "Downloading jsonpath_python-1.0.6-py3-none-any.whl (7.6 kB)\n",
      "Downloading pydantic-2.10.1-py3-none-any.whl (455 kB)\n",
      "Downloading pydantic_core-2.27.1-cp312-none-win_amd64.whl (2.0 MB)\n",
      "   ---------------------------------------- 0.0/2.0 MB ? eta -:--:--\n",
      "   ------------------------------- -------- 1.6/2.0 MB 7.6 MB/s eta 0:00:01\n",
      "   ---------------------------------------- 2.0/2.0 MB 6.9 MB/s eta 0:00:00\n",
      "Downloading typing_inspect-0.9.0-py3-none-any.whl (8.8 kB)\n",
      "Downloading annotated_types-0.7.0-py3-none-any.whl (13 kB)\n",
      "Downloading mypy_extensions-1.0.0-py3-none-any.whl (4.7 kB)\n",
      "Downloading anyio-4.6.2.post1-py3-none-any.whl (90 kB)\n",
      "Downloading sniffio-1.3.1-py3-none-any.whl (10 kB)\n",
      "Downloading h11-0.14.0-py3-none-any.whl (58 kB)\n",
      "Installing collected packages: sniffio, python-dateutil, pydantic-core, mypy-extensions, jsonpath-python, h11, eval-type-backport, annotated-types, typing-inspect, pydantic, httpcore, anyio, httpx, mistralai\n",
      "  Attempting uninstall: python-dateutil\n",
      "    Found existing installation: python-dateutil 2.9.0.post0\n",
      "    Uninstalling python-dateutil-2.9.0.post0:\n",
      "      Successfully uninstalled python-dateutil-2.9.0.post0\n",
      "Successfully installed annotated-types-0.7.0 anyio-4.6.2.post1 eval-type-backport-0.2.0 h11-0.14.0 httpcore-1.0.7 httpx-0.27.2 jsonpath-python-1.0.6 mistralai-1.2.3 mypy-extensions-1.0.0 pydantic-2.10.1 pydantic-core-2.27.1 python-dateutil-2.8.2 sniffio-1.3.1 typing-inspect-0.9.0\n"
     ]
    },
    {
     "name": "stderr",
     "output_type": "stream",
     "text": [
      "\n",
      "[notice] A new release of pip is available: 24.2 -> 24.3.1\n",
      "[notice] To update, run: python.exe -m pip install --upgrade pip\n"
     ]
    }
   ],
   "source": [
    "!pip install mistralai\n",
    "!pip install dotenv"
   ]
  },
  {
   "cell_type": "code",
   "execution_count": null,
   "metadata": {},
   "outputs": [
    {
     "name": "stdout",
     "output_type": "stream",
     "text": [
      "Choosing the \"best\" French cheese is subjective and depends on personal taste, as there are hundreds of varieties, each with its unique flavor, texture, and aroma. However, some French cheeses are particularly renowned and beloved worldwide. Here are a few:\n",
      "\n",
      "1. **Camembert de Normandie**: A soft, creamy cheese made from cow's milk, it has a strong, earthy flavor and a velvety texture.\n",
      "\n",
      "2. **Roquefort**: A blue cheese made from sheep's milk, it has a distinctive tangy flavor and a creamy, crumbly texture.\n",
      "\n",
      "3. **Brie de Meaux**: A soft cheese made from cow's milk, it has a rich, buttery flavor and a creamy, runny texture when ripe.\n",
      "\n",
      "4. **Comté**: A hard cheese made from cow's milk, it has a nutty, slightly sweet flavor and a firm, granular texture.\n",
      "\n",
      "5. **Reblochon**: A semi-soft cheese made from cow's milk, it has a fruity, nutty flavor and a creamy, slightly elastic texture.\n",
      "\n",
      "6. **Chèvre (Goat Cheese)**: There are many types, but some notable ones include Crottin de Chavignol (small, round, and tangy) and Valençay (pyramid-shaped and ashy).\n",
      "\n",
      "Each of these cheeses is unique and represents the best of French cheesemaking traditions. The \"best\" one depends on your personal preference.\n"
     ]
    }
   ],
   "source": [
    "from mistralai import Mistral\n",
    "from dotenv import load_dotenv\n",
    "import os\n",
    "\n",
    "load_dotenv()\n",
    "\n",
    "api_key = os.getenv(\"API_KEY\")\n",
    "secret_key = os.getenv(\"SECRET_KEY\")\n",
    "print(f\"API_KEY: {api_key}\")\n",
    "api_key = \"G8in7nx1BvV5jwFZeb7oYUOi9OQaKsvD\"\n",
    "model = \"mistral-small-latest\"\n",
    "\n",
    "client = Mistral(api_key=api_key)\n",
    "\n",
    "chat_response = client.chat.complete(\n",
    "    model=model,\n",
    "    messages=[{\"role\":\"user\", \"content\":\"What is the best French cheese?\"}]\n",
    ")\n",
    "\n",
    "print(chat_response.choices[0].message.content)"
   ]
  }
 ],
 "metadata": {
  "kernelspec": {
   "display_name": "Python 3",
   "language": "python",
   "name": "python3"
  },
  "language_info": {
   "codemirror_mode": {
    "name": "ipython",
    "version": 3
   },
   "file_extension": ".py",
   "mimetype": "text/x-python",
   "name": "python",
   "nbconvert_exporter": "python",
   "pygments_lexer": "ipython3",
   "version": "3.12.6"
  }
 },
 "nbformat": 4,
 "nbformat_minor": 2
}
