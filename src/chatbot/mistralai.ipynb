{
 "cells": [
  {
   "cell_type": "code",
   "execution_count": 3,
   "metadata": {},
   "outputs": [
    {
     "name": "stdout",
     "output_type": "stream",
     "text": [
      "Defaulting to user installation because normal site-packages is not writeable\n",
      "Requirement already satisfied: mistralai in c:\\users\\paull\\appdata\\roaming\\python\\python312\\site-packages (1.2.3)\n",
      "Requirement already satisfied: eval-type-backport<0.3.0,>=0.2.0 in c:\\users\\paull\\appdata\\roaming\\python\\python312\\site-packages (from mistralai) (0.2.0)\n",
      "Requirement already satisfied: httpx<0.28.0,>=0.27.0 in c:\\users\\paull\\appdata\\roaming\\python\\python312\\site-packages (from mistralai) (0.27.2)\n",
      "Requirement already satisfied: jsonpath-python<2.0.0,>=1.0.6 in c:\\users\\paull\\appdata\\roaming\\python\\python312\\site-packages (from mistralai) (1.0.6)\n",
      "Requirement already satisfied: pydantic<3.0.0,>=2.9.0 in c:\\users\\paull\\appdata\\roaming\\python\\python312\\site-packages (from mistralai) (2.10.1)\n",
      "Requirement already satisfied: python-dateutil==2.8.2 in c:\\users\\paull\\appdata\\roaming\\python\\python312\\site-packages (from mistralai) (2.8.2)\n",
      "Requirement already satisfied: typing-inspect<0.10.0,>=0.9.0 in c:\\users\\paull\\appdata\\roaming\\python\\python312\\site-packages (from mistralai) (0.9.0)\n",
      "Requirement already satisfied: six>=1.5 in c:\\users\\paull\\appdata\\roaming\\python\\python312\\site-packages (from python-dateutil==2.8.2->mistralai) (1.16.0)\n",
      "Requirement already satisfied: anyio in c:\\users\\paull\\appdata\\roaming\\python\\python312\\site-packages (from httpx<0.28.0,>=0.27.0->mistralai) (4.6.2.post1)\n",
      "Requirement already satisfied: certifi in c:\\users\\paull\\appdata\\roaming\\python\\python312\\site-packages (from httpx<0.28.0,>=0.27.0->mistralai) (2024.8.30)\n",
      "Requirement already satisfied: httpcore==1.* in c:\\users\\paull\\appdata\\roaming\\python\\python312\\site-packages (from httpx<0.28.0,>=0.27.0->mistralai) (1.0.7)\n",
      "Requirement already satisfied: idna in c:\\users\\paull\\appdata\\roaming\\python\\python312\\site-packages (from httpx<0.28.0,>=0.27.0->mistralai) (3.10)\n",
      "Requirement already satisfied: sniffio in c:\\users\\paull\\appdata\\roaming\\python\\python312\\site-packages (from httpx<0.28.0,>=0.27.0->mistralai) (1.3.1)\n",
      "Requirement already satisfied: h11<0.15,>=0.13 in c:\\users\\paull\\appdata\\roaming\\python\\python312\\site-packages (from httpcore==1.*->httpx<0.28.0,>=0.27.0->mistralai) (0.14.0)\n",
      "Requirement already satisfied: annotated-types>=0.6.0 in c:\\users\\paull\\appdata\\roaming\\python\\python312\\site-packages (from pydantic<3.0.0,>=2.9.0->mistralai) (0.7.0)\n",
      "Requirement already satisfied: pydantic-core==2.27.1 in c:\\users\\paull\\appdata\\roaming\\python\\python312\\site-packages (from pydantic<3.0.0,>=2.9.0->mistralai) (2.27.1)\n",
      "Requirement already satisfied: typing-extensions>=4.12.2 in c:\\users\\paull\\appdata\\roaming\\python\\python312\\site-packages (from pydantic<3.0.0,>=2.9.0->mistralai) (4.12.2)\n",
      "Requirement already satisfied: mypy-extensions>=0.3.0 in c:\\users\\paull\\appdata\\roaming\\python\\python312\\site-packages (from typing-inspect<0.10.0,>=0.9.0->mistralai) (1.0.0)\n"
     ]
    },
    {
     "name": "stderr",
     "output_type": "stream",
     "text": [
      "\n",
      "[notice] A new release of pip is available: 24.2 -> 24.3.1\n",
      "[notice] To update, run: python.exe -m pip install --upgrade pip\n"
     ]
    },
    {
     "name": "stdout",
     "output_type": "stream",
     "text": [
      "Defaulting to user installation because normal site-packages is not writeable\n",
      "Collecting python-dotenv\n",
      "  Downloading python_dotenv-1.0.1-py3-none-any.whl.metadata (23 kB)\n",
      "Downloading python_dotenv-1.0.1-py3-none-any.whl (19 kB)\n",
      "Installing collected packages: python-dotenv\n",
      "Successfully installed python-dotenv-1.0.1\n"
     ]
    },
    {
     "name": "stderr",
     "output_type": "stream",
     "text": [
      "\n",
      "[notice] A new release of pip is available: 24.2 -> 24.3.1\n",
      "[notice] To update, run: python.exe -m pip install --upgrade pip\n"
     ]
    }
   ],
   "source": [
    "!pip install mistralai\n",
    "!pip install python-dotenv"
   ]
  },
  {
   "cell_type": "code",
   "execution_count": 4,
   "metadata": {},
   "outputs": [
    {
     "data": {
      "text/plain": [
       "True"
      ]
     },
     "execution_count": 4,
     "metadata": {},
     "output_type": "execute_result"
    }
   ],
   "source": [
    "from mistralai import Mistral\n",
    "from dotenv import load_dotenv\n",
    "import os\n",
    "load_dotenv()"
   ]
  },
  {
   "cell_type": "code",
   "execution_count": 5,
   "metadata": {},
   "outputs": [],
   "source": [
    "api_key = os.environ[\"MISTRAL_API_KEY\"]\n",
    "model = \"mistral-small-latest\""
   ]
  },
  {
   "cell_type": "code",
   "execution_count": 9,
   "metadata": {},
   "outputs": [],
   "source": [
    "def run_mistral(user_message, model=\"mistral-small-latest\"):\n",
    "    client = Mistral(api_key=api_key)\n",
    "    messages = [\n",
    "        {\"role\":\"user\", \"content\":user_message}\n",
    "    ]\n",
    "    chat_response = client.chat.complete(\n",
    "        model=model,\n",
    "        messages=messages\n",
    "    )\n",
    "    return (chat_response.choices[0].message.content)"
   ]
  },
  {
   "cell_type": "code",
   "execution_count": 13,
   "metadata": {},
   "outputs": [],
   "source": [
    "sex = \"Male\"\n",
    "age = \"22\"\n",
    "height = \"180cm\"\n",
    "weight = \"75kg\""
   ]
  },
  {
   "cell_type": "code",
   "execution_count": 34,
   "metadata": {},
   "outputs": [],
   "source": [
    "def make_prompt(user_input):\n",
    "    return f\"\"\"\n",
    "    You are a personal fashion advisor. Your role is to provide tailored fashion advice to users based on their preferences, occasions, and budget. Here's how you should structure your response:\n",
    "\n",
    "    A list of reference to search on a shopping website. The format must only be a list with [].\n",
    "\n",
    "    # Example Conversation:\n",
    "    User Input:\n",
    "    \"I need advice on what to wear for a semi-formal dinner. I like simple, classic styles but with a modern twist. My budget is around $150.\"\n",
    "\n",
    "    LLM Response:\n",
    "    [\"slim-fit navy blazers\", \"non-iron stretch Oxford shirts\", \"stretch slim-fit chinos\", \"Leather loafers\"]\n",
    "\n",
    "    # User Input\n",
    "    {user_input}\n",
    "    \"\"\""
   ]
  },
  {
   "cell_type": "code",
   "execution_count": 35,
   "metadata": {},
   "outputs": [],
   "source": [
    "def give_advice(user_input):\n",
    "    prompt = make_prompt(user_input)\n",
    "    return run_mistral(prompt)"
   ]
  },
  {
   "cell_type": "code",
   "execution_count": 36,
   "metadata": {},
   "outputs": [],
   "source": [
    "user_input = \"\"\"\n",
    "\"I need help choosing an outfit for a weekend brunch with friends. I prefer a casual but put-together look, and I like neutral and earthy tones. My budget is around $100. Can you recommend something stylish yet comfortable?\"\n",
    "\"\"\""
   ]
  },
  {
   "cell_type": "code",
   "execution_count": 37,
   "metadata": {},
   "outputs": [
    {
     "name": "stdout",
     "output_type": "stream",
     "text": [
      "[\"Crew neck sweatshirts\", \"High-waisted jeans\", \"Chelsea boots\", \"Denim jackets\", \"Linen blend shirts\"]\n"
     ]
    }
   ],
   "source": [
    "print(give_advice(user_input))"
   ]
  }
 ],
 "metadata": {
  "kernelspec": {
   "display_name": "Python 3",
   "language": "python",
   "name": "python3"
  },
  "language_info": {
   "codemirror_mode": {
    "name": "ipython",
    "version": 3
   },
   "file_extension": ".py",
   "mimetype": "text/x-python",
   "name": "python",
   "nbconvert_exporter": "python",
   "pygments_lexer": "ipython3",
   "version": "3.12.6"
  }
 },
 "nbformat": 4,
 "nbformat_minor": 2
}
